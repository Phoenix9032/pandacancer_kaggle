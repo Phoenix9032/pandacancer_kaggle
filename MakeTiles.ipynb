{
 "cells": [
  {
   "cell_type": "code",
   "execution_count": 1,
   "metadata": {},
   "outputs": [],
   "source": [
    "import skimage.io\n",
    "import numpy as np\n",
    "import pandas as pd\n",
    "import sys\n",
    "from pathlib import Path\n",
    "import matplotlib.pyplot as plt\n",
    "import pickle"
   ]
  },
  {
   "cell_type": "code",
   "execution_count": 2,
   "metadata": {},
   "outputs": [],
   "source": [
    "class TileMaker:\n",
    "    \n",
    "    def __init__(self, size, number):\n",
    "        self.size = size\n",
    "        self.number = number\n",
    "        \n",
    "    def make(self, image, mask):\n",
    "        \n",
    "        h, w, c = image.shape\n",
    "        horizontal_pad = 0 if (w % self.size) == 0 else self.size - (w % self.size)\n",
    "        vertical_pad = 0 if (h % self.size) == 0 else self.size - (h % self.size)\n",
    "        \n",
    "        image = np.pad(image, pad_width=((vertical_pad//2, vertical_pad - vertical_pad//2), \n",
    "                                         (horizontal_pad//2, horizontal_pad - horizontal_pad//2),\n",
    "                                         (0, 0)), \n",
    "                       mode='constant', constant_values=255)  # Empty is white in this data\n",
    "        \n",
    "        mask = np.pad(mask, pad_width=((vertical_pad//2, vertical_pad - vertical_pad//2), \n",
    "                                       (horizontal_pad//2, horizontal_pad - horizontal_pad//2),\n",
    "                                       (0, 0)), \n",
    "                       mode='constant', constant_values=0)  # Empty is black in this data\n",
    "        \n",
    "        h, w, c = image.shape\n",
    "        image = image.reshape(h // self.size, self.size, w // self.size, self.size, c)\n",
    "        image = image.swapaxes(1, 2).reshape(-1, self.size, self.size, c)\n",
    "        mask = mask.reshape(h // self.size, self.size, w // self.size, self.size, c)\n",
    "        mask = mask.swapaxes(1, 2).reshape(-1, self.size, self.size, c)\n",
    "        \n",
    "        if image.shape[0] < self.number:\n",
    "            image = np.pad(image, pad_width=((0, self.number - image.shape[0]), (0, 0), (0, 0), (0 ,0)),\n",
    "                           mode='constant', constant_values=255)\n",
    "            mask = np.pad(mask, pad_width=((0, self.number - mask.shape[0]), (0, 0), (0, 0), (0 ,0)),\n",
    "                          mode='constant', constant_values=0)\n",
    "        \n",
    "        # Find the images with the most stuff (the less white):\n",
    "        sorted_tiles = np.argsort(np.sum(image, axis=(1, 2, 3)))\n",
    "        sorted_tiles = sorted_tiles[:self.number]\n",
    "        \n",
    "        return image[sorted_tiles], mask[sorted_tiles]"
   ]
  },
  {
   "cell_type": "code",
   "execution_count": 7,
   "metadata": {},
   "outputs": [],
   "source": [
    "TRAIN_PATH = Path('G:/Datasets/panda/train_images/')\n",
    "MASKS_TRAIN_PATH = Path('G:/Datasets/panda/train_label_masks/')\n",
    "OUTPUT_IMG_PATH = Path('D:/Datasets/panda/train_tiles/imgs/')\n",
    "OUTPUT_MASK_PATH = Path('D:/Datasets/panda/train_tiles/masks/')\n",
    "CSV_PATH = Path('G:/Datasets/panda/train.csv')\n",
    "SAVE_FULL = False"
   ]
  },
  {
   "cell_type": "code",
   "execution_count": 8,
   "metadata": {},
   "outputs": [],
   "source": [
    "OUTPUT_IMG_PATH.mkdir(exist_ok=True, parents=True)\n",
    "OUTPUT_MASK_PATH.mkdir(exist_ok=True, parents=True)"
   ]
  },
  {
   "cell_type": "code",
   "execution_count": 9,
   "metadata": {},
   "outputs": [],
   "source": [
    "tile_maker = TileMaker(128, 12)"
   ]
  },
  {
   "cell_type": "code",
   "execution_count": null,
   "metadata": {},
   "outputs": [
    {
     "name": "stdout",
     "output_type": "stream",
     "text": [
      "1621/10615"
     ]
    }
   ],
   "source": [
    "img_list = list(TRAIN_PATH.glob('**/*.tiff'))\n",
    "img_list.pop(5765)\n",
    "bad_images = []\n",
    "bad_masks = []\n",
    "image_stats = []\n",
    "for i, img_fn in enumerate(img_list):\n",
    "    \n",
    "    img_id = img_fn.stem\n",
    "    mask_fn = MASKS_TRAIN_PATH/(img_id + '_mask.tiff')\n",
    "    \n",
    "    try:\n",
    "        image = skimage.io.MultiImage(str(img_fn))[-1]\n",
    "    except:\n",
    "        bad_images.append(img_id)\n",
    "        continue\n",
    "    \n",
    "    if mask_fn.exists():\n",
    "        \n",
    "        try:\n",
    "            mask = skimage.io.MultiImage(str(mask_fn))[-1]\n",
    "        except:\n",
    "            bad_masks.append(img_id)\n",
    "            mask = np.zeros_like(image)\n",
    "            \n",
    "    else:\n",
    "        mask = np.zeros_like(image)\n",
    "        \n",
    "    image, mask = tile_maker.make(image, mask)\n",
    "    sys.stdout.write(f'\\r{i + 1}/{len(img_list)}')\n",
    "\n",
    "    image_stats.append({'image_id': img_id, 'mean': image.mean(axis=(0, 1, 2))/255, \n",
    "                        'mean_square': ((image/255) ** 2).mean(axis=(0, 1, 2))})\n",
    "    \n",
    "    if SAVE_FULL:\n",
    "        full_image = image.reshape(4, 4, 128, 128, 3).swapaxes(1, 2).reshape(4*128, 4*128, 3)\n",
    "        full_mask = mask.reshape(4, 4, 128, 128, 3).swapaxes(1, 2).reshape(4*128, 4*128, 3)\n",
    "        skimage.io.imsave(OUTPUT_IMG_PATH/(img_id +'.png'), full_image, check_contrast=False)\n",
    "        skimage.io.imsave(OUTPUT_MASK_PATH/(img_id +'.png'), full_mask, check_contrast=False)\n",
    "    else:\n",
    "        for i, (tile_image, tile_mask) in enumerate(zip(image, mask)):\n",
    "            skimage.io.imsave(OUTPUT_IMG_PATH/(img_id + '_' + str(i) + '.png'), tile_image, check_contrast=False)\n",
    "            skimage.io.imsave(OUTPUT_MASK_PATH/(img_id +'_' + str(i) + '.png'), tile_mask, check_contrast=False)"
   ]
  },
  {
   "cell_type": "code",
   "execution_count": null,
   "metadata": {},
   "outputs": [],
   "source": [
    "image_stats = pd.DataFrame(image_stats)"
   ]
  },
  {
   "cell_type": "code",
   "execution_count": null,
   "metadata": {},
   "outputs": [],
   "source": [
    "df = pd.read_csv(CSV_PATH)\n",
    "df = pd.merge(df, image_stats, on='image_id', how='left')"
   ]
  },
  {
   "cell_type": "code",
   "execution_count": null,
   "metadata": {},
   "outputs": [],
   "source": [
    "provider_stats = {}\n",
    "for provider in df['data_provider'].unique():\n",
    "    mean = (df[df['data_provider']==provider]['mean']).mean()\n",
    "    std = np.sqrt((df[df['data_provider']==provider]['mean_square']).mean() - mean ** 2)\n",
    "    provider_stats[provider] = (mean, std)"
   ]
  },
  {
   "cell_type": "code",
   "execution_count": null,
   "metadata": {},
   "outputs": [],
   "source": [
    "with open('./stats.pkl', 'wb') as file:\n",
    "    pickle.dump(provider_stats, file)"
   ]
  },
  {
   "cell_type": "code",
   "execution_count": null,
   "metadata": {},
   "outputs": [],
   "source": [
    "print(bad_images)"
   ]
  },
  {
   "cell_type": "code",
   "execution_count": null,
   "metadata": {},
   "outputs": [],
   "source": [
    "print(bad_masks)"
   ]
  },
  {
   "cell_type": "code",
   "execution_count": null,
   "metadata": {},
   "outputs": [],
   "source": [
    "print(provider_stats)"
   ]
  },
  {
   "cell_type": "code",
   "execution_count": null,
   "metadata": {},
   "outputs": [],
   "source": []
  }
 ],
 "metadata": {
  "kernelspec": {
   "display_name": "Python 3",
   "language": "python",
   "name": "python3"
  },
  "language_info": {
   "codemirror_mode": {
    "name": "ipython",
    "version": 3
   },
   "file_extension": ".py",
   "mimetype": "text/x-python",
   "name": "python",
   "nbconvert_exporter": "python",
   "pygments_lexer": "ipython3",
   "version": "3.7.6"
  }
 },
 "nbformat": 4,
 "nbformat_minor": 4
}
