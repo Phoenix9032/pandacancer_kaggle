{
 "cells": [
  {
   "cell_type": "code",
   "execution_count": 1,
   "metadata": {},
   "outputs": [],
   "source": [
    "import skimage.io\n",
    "import numpy as np\n",
    "import pandas as pd\n",
    "import sys\n",
    "from pathlib import Path\n",
    "import matplotlib.pyplot as plt\n",
    "import pickle"
   ]
  },
  {
   "cell_type": "code",
   "execution_count": 2,
   "metadata": {},
   "outputs": [],
   "source": [
    "class TileMaker:\n",
    "    \n",
    "    def __init__(self, size, number):\n",
    "        self.size = size\n",
    "        self.number = number\n",
    "        \n",
    "    def make(self, image, mask):\n",
    "        \n",
    "        h, w, c = image.shape\n",
    "        horizontal_pad = 0 if (w % self.size) == 0 else self.size - (w % self.size)\n",
    "        vertical_pad = 0 if (h % self.size) == 0 else self.size - (h % self.size)\n",
    "        \n",
    "        image = np.pad(image, pad_width=((vertical_pad//2, vertical_pad - vertical_pad//2), \n",
    "                                         (horizontal_pad//2, horizontal_pad - horizontal_pad//2),\n",
    "                                         (0, 0)), \n",
    "                       mode='constant', constant_values=255)  # Empty is white in this data\n",
    "        \n",
    "        mask = np.pad(mask, pad_width=((vertical_pad//2, vertical_pad - vertical_pad//2), \n",
    "                                       (horizontal_pad//2, horizontal_pad - horizontal_pad//2),\n",
    "                                       (0, 0)), \n",
    "                       mode='constant', constant_values=0)  # Empty is black in this data\n",
    "        \n",
    "        h, w, c = image.shape\n",
    "        image = image.reshape(h // self.size, self.size, w // self.size, self.size, c)\n",
    "        image = image.swapaxes(1, 2).reshape(-1, self.size, self.size, c)\n",
    "        mask = mask.reshape(h // self.size, self.size, w // self.size, self.size, c)\n",
    "        mask = mask.swapaxes(1, 2).reshape(-1, self.size, self.size, c)\n",
    "        \n",
    "        if image.shape[0] < self.number:\n",
    "            image = np.pad(image, pad_width=((0, self.number - image.shape[0]), (0, 0), (0, 0), (0 ,0)),\n",
    "                           mode='constant', constant_values=255)\n",
    "            mask = np.pad(mask, pad_width=((0, self.number - mask.shape[0]), (0, 0), (0, 0), (0 ,0)),\n",
    "                          mode='constant', constant_values=0)\n",
    "        \n",
    "        # Find the images with the most stuff (the less white):\n",
    "        sorted_tiles = np.argsort(np.sum(image, axis=(1, 2, 3)))\n",
    "        sorted_tiles = sorted_tiles[:self.number]\n",
    "        \n",
    "        return image[sorted_tiles], mask[sorted_tiles]"
   ]
  },
  {
   "cell_type": "code",
   "execution_count": 3,
   "metadata": {},
   "outputs": [],
   "source": [
    "TRAIN_PATH = Path('G:/Datasets/panda/train_images/')\n",
    "MASKS_TRAIN_PATH = Path('G:/Datasets/panda/train_label_masks/')\n",
    "OUTPUT_IMG_PATH = Path('G:/Datasets/panda/train_tiles/imgs/')\n",
    "OUTPUT_MASK_PATH = Path('G:/Datasets/panda/train_tiles/masks/')\n",
    "CSV_PATH = Path('G:/Datasets/panda/train.csv')\n",
    "SAVE_FULL = False"
   ]
  },
  {
   "cell_type": "code",
   "execution_count": 4,
   "metadata": {},
   "outputs": [],
   "source": [
    "OUTPUT_IMG_PATH.mkdir(exist_ok=True, parents=True)\n",
    "OUTPUT_MASK_PATH.mkdir(exist_ok=True, parents=True)"
   ]
  },
  {
   "cell_type": "code",
   "execution_count": 5,
   "metadata": {},
   "outputs": [],
   "source": [
    "tile_maker = TileMaker(128, 16)"
   ]
  },
  {
   "cell_type": "code",
   "execution_count": 6,
   "metadata": {},
   "outputs": [
    {
     "name": "stdout",
     "output_type": "stream",
     "text": [
      "5763/10615"
     ]
    },
    {
     "name": "stderr",
     "output_type": "stream",
     "text": [
      "G:\\Anaconda3\\envs\\fastai\\lib\\site-packages\\skimage\\external\\tifffile\\tifffile.py:2117: UserWarning: corrupted page list at offset 9394200\n",
      "  warnings.warn(\"corrupted page list at offset %i\" % offset)\n"
     ]
    },
    {
     "name": "stdout",
     "output_type": "stream",
     "text": [
      "5848/10615"
     ]
    },
    {
     "name": "stderr",
     "output_type": "stream",
     "text": [
      "G:\\Anaconda3\\envs\\fastai\\lib\\site-packages\\skimage\\external\\tifffile\\tifffile.py:2117: UserWarning: corrupted page list at offset 3287160\n",
      "  warnings.warn(\"corrupted page list at offset %i\" % offset)\n"
     ]
    },
    {
     "name": "stdout",
     "output_type": "stream",
     "text": [
      "6022/10615"
     ]
    },
    {
     "name": "stderr",
     "output_type": "stream",
     "text": [
      "G:\\Anaconda3\\envs\\fastai\\lib\\site-packages\\skimage\\external\\tifffile\\tifffile.py:2117: UserWarning: corrupted page list at offset 1768646\n",
      "  warnings.warn(\"corrupted page list at offset %i\" % offset)\n"
     ]
    },
    {
     "name": "stdout",
     "output_type": "stream",
     "text": [
      "6029/10615"
     ]
    },
    {
     "name": "stderr",
     "output_type": "stream",
     "text": [
      "G:\\Anaconda3\\envs\\fastai\\lib\\site-packages\\skimage\\external\\tifffile\\tifffile.py:2117: UserWarning: corrupted page list at offset 2120552\n",
      "  warnings.warn(\"corrupted page list at offset %i\" % offset)\n"
     ]
    },
    {
     "name": "stdout",
     "output_type": "stream",
     "text": [
      "6099/10615"
     ]
    },
    {
     "name": "stderr",
     "output_type": "stream",
     "text": [
      "G:\\Anaconda3\\envs\\fastai\\lib\\site-packages\\skimage\\external\\tifffile\\tifffile.py:2117: UserWarning: corrupted page list at offset 3933556\n",
      "  warnings.warn(\"corrupted page list at offset %i\" % offset)\n"
     ]
    },
    {
     "name": "stdout",
     "output_type": "stream",
     "text": [
      "6132/10615"
     ]
    },
    {
     "name": "stderr",
     "output_type": "stream",
     "text": [
      "G:\\Anaconda3\\envs\\fastai\\lib\\site-packages\\skimage\\external\\tifffile\\tifffile.py:2117: UserWarning: corrupted page list at offset 3387112\n",
      "  warnings.warn(\"corrupted page list at offset %i\" % offset)\n"
     ]
    },
    {
     "name": "stdout",
     "output_type": "stream",
     "text": [
      "6136/10615"
     ]
    },
    {
     "name": "stderr",
     "output_type": "stream",
     "text": [
      "G:\\Anaconda3\\envs\\fastai\\lib\\site-packages\\skimage\\external\\tifffile\\tifffile.py:2117: UserWarning: corrupted page list at offset 2378256\n",
      "  warnings.warn(\"corrupted page list at offset %i\" % offset)\n"
     ]
    },
    {
     "name": "stdout",
     "output_type": "stream",
     "text": [
      "6183/10615"
     ]
    },
    {
     "name": "stderr",
     "output_type": "stream",
     "text": [
      "G:\\Anaconda3\\envs\\fastai\\lib\\site-packages\\skimage\\external\\tifffile\\tifffile.py:2117: UserWarning: corrupted page list at offset 1575904\n",
      "  warnings.warn(\"corrupted page list at offset %i\" % offset)\n"
     ]
    },
    {
     "name": "stdout",
     "output_type": "stream",
     "text": [
      "6282/10615"
     ]
    },
    {
     "name": "stderr",
     "output_type": "stream",
     "text": [
      "G:\\Anaconda3\\envs\\fastai\\lib\\site-packages\\skimage\\external\\tifffile\\tifffile.py:2117: UserWarning: corrupted page list at offset 1674956\n",
      "  warnings.warn(\"corrupted page list at offset %i\" % offset)\n"
     ]
    },
    {
     "name": "stdout",
     "output_type": "stream",
     "text": [
      "10615/10615"
     ]
    }
   ],
   "source": [
    "img_list = list(TRAIN_PATH.glob('**/*.tiff'))\n",
    "img_list.pop(5765)\n",
    "bad_images = []\n",
    "bad_masks = []\n",
    "image_stats = []\n",
    "for i, img_fn in enumerate(img_list):\n",
    "    \n",
    "    img_id = img_fn.stem\n",
    "    mask_fn = MASKS_TRAIN_PATH/(img_id + '_mask.tiff')\n",
    "    \n",
    "    try:\n",
    "        image = skimage.io.MultiImage(str(img_fn))[-1]\n",
    "    except:\n",
    "        bad_images.append(img_id)\n",
    "        continue\n",
    "    \n",
    "    if mask_fn.exists():\n",
    "        \n",
    "        try:\n",
    "            mask = skimage.io.MultiImage(str(mask_fn))[-1]\n",
    "        except:\n",
    "            bad_masks.append(img_id)\n",
    "            mask = np.zeros_like(image)\n",
    "            \n",
    "    else:\n",
    "        mask = np.zeros_like(image)\n",
    "        \n",
    "    image, mask = tile_maker.make(image, mask)\n",
    "    sys.stdout.write(f'\\r{i + 1}/{len(img_list)}')\n",
    "\n",
    "    image_stats.append({'image_id': img_id, 'mean': image.mean(axis=(0, 1, 2))/255, \n",
    "                        'mean_square': ((image/255) ** 2).mean(axis=(0, 1, 2))})\n",
    "    \n",
    "    if SAVE_FULL:\n",
    "        full_image = image.reshape(4, 4, 128, 128, 3).swapaxes(1, 2).reshape(4*128, 4*128, 3)\n",
    "        full_mask = mask.reshape(4, 4, 128, 128, 3).swapaxes(1, 2).reshape(4*128, 4*128, 3)\n",
    "        skimage.io.imsave(OUTPUT_IMG_PATH/(img_id +'.png'), full_image, check_contrast=False)\n",
    "        skimage.io.imsave(OUTPUT_MASK_PATH/(img_id +'.png'), full_mask, check_contrast=False)\n",
    "    else:\n",
    "        for i, (tile_image, tile_mask) in enumerate(zip(image, mask)):\n",
    "            skimage.io.imsave(OUTPUT_IMG_PATH/(img_id + '_' + str(i) + '.png'), tile_image, check_contrast=False)\n",
    "            skimage.io.imsave(OUTPUT_MASK_PATH/(img_id +'_' + str(i) + '.png'), tile_mask, check_contrast=False)"
   ]
  },
  {
   "cell_type": "code",
   "execution_count": 7,
   "metadata": {},
   "outputs": [],
   "source": [
    "image_stats = pd.DataFrame(image_stats)"
   ]
  },
  {
   "cell_type": "code",
   "execution_count": 8,
   "metadata": {},
   "outputs": [],
   "source": [
    "df = pd.read_csv(CSV_PATH)\n",
    "df = pd.merge(df, image_stats, on='image_id', how='left')"
   ]
  },
  {
   "cell_type": "code",
   "execution_count": 9,
   "metadata": {},
   "outputs": [],
   "source": [
    "provider_stats = {}\n",
    "for provider in df['data_provider'].unique():\n",
    "    mean = (df[df['data_provider']==provider]['mean']).mean()\n",
    "    std = np.sqrt((df[df['data_provider']==provider]['mean_square']).mean() - mean ** 2)\n",
    "    provider_stats[provider] = (mean, std)"
   ]
  },
  {
   "cell_type": "code",
   "execution_count": 10,
   "metadata": {},
   "outputs": [],
   "source": [
    "with open('./stats.pkl', 'wb') as file:\n",
    "    pickle.dump(provider_stats, file)"
   ]
  },
  {
   "cell_type": "code",
   "execution_count": 11,
   "metadata": {},
   "outputs": [
    {
     "name": "stdout",
     "output_type": "stream",
     "text": [
      "[]\n"
     ]
    }
   ],
   "source": [
    "print(bad_images)"
   ]
  },
  {
   "cell_type": "code",
   "execution_count": 12,
   "metadata": {},
   "outputs": [
    {
     "name": "stdout",
     "output_type": "stream",
     "text": [
      "['8d6d8329cd0bbf6d0356b300f83d6b6a', '8d9bf04e714c959d4c571030c51ee9f5', '8fa7f6ad508c78ef7dbd621d579350b8', '93e2ce38e743146a128afb9ff3a61383', '93f366029ac746d84ea2aea80cc998e8', '9403cc77efc7d9414204d12e31dadac1', '95deb0caf878d715c1a497a77abbd6d9', '95df6544155901a142acce3866e316c2', '96aac9c3672cadf72e9e60d634bb145a', '96c62d8799651597247be49bf790d585', '97a83309575b765469e6a09250d92170', '97bed3de5c372f3dc9ba818cd5e97369', '99bc60c2d554be9304993efa0a5ef740']\n"
     ]
    }
   ],
   "source": [
    "print(bad_masks)"
   ]
  },
  {
   "cell_type": "code",
   "execution_count": 13,
   "metadata": {},
   "outputs": [
    {
     "name": "stdout",
     "output_type": "stream",
     "text": [
      "{'karolinska': (array([0.8935662 , 0.78511786, 0.87020329]), array([0.14768412, 0.28661991, 0.17399626])), 'radboud': (array([0.92652057, 0.85519609, 0.88622817]), array([0.11088003, 0.19650294, 0.1517879 ]))}\n"
     ]
    }
   ],
   "source": [
    "print(provider_stats)"
   ]
  },
  {
   "cell_type": "code",
   "execution_count": null,
   "metadata": {},
   "outputs": [],
   "source": []
  }
 ],
 "metadata": {
  "kernelspec": {
   "display_name": "Python 3",
   "language": "python",
   "name": "python3"
  },
  "language_info": {
   "codemirror_mode": {
    "name": "ipython",
    "version": 3
   },
   "file_extension": ".py",
   "mimetype": "text/x-python",
   "name": "python",
   "nbconvert_exporter": "python",
   "pygments_lexer": "ipython3",
   "version": "3.7.6"
  }
 },
 "nbformat": 4,
 "nbformat_minor": 4
}
