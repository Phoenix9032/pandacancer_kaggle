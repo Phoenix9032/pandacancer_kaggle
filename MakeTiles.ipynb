{
 "cells": [
  {
   "cell_type": "code",
   "execution_count": 1,
   "metadata": {},
   "outputs": [],
   "source": [
    "import skimage.io\n",
    "import numpy as np\n",
    "import pandas as pd\n",
    "import sys\n",
    "from pathlib import Path\n",
    "import matplotlib.pyplot as plt\n",
    "import pickle"
   ]
  },
  {
   "cell_type": "code",
   "execution_count": 2,
   "metadata": {},
   "outputs": [],
   "source": [
    "class TileMaker:\n",
    "    \n",
    "    def __init__(self, size, number):\n",
    "        self.size = size\n",
    "        self.number = number\n",
    "        \n",
    "    def make(self, image, mask):\n",
    "        \n",
    "        h, w, c = image.shape\n",
    "        horizontal_pad = 0 if (w % self.size) == 0 else self.size - (w % self.size)\n",
    "        vertical_pad = 0 if (h % self.size) == 0 else self.size - (h % self.size)\n",
    "        \n",
    "        image = np.pad(image, pad_width=((vertical_pad//2, vertical_pad - vertical_pad//2), \n",
    "                                         (horizontal_pad//2, horizontal_pad - horizontal_pad//2),\n",
    "                                         (0, 0)), \n",
    "                       mode='constant', constant_values=255)  # Empty is white in this data\n",
    "        \n",
    "        mask = np.pad(mask, pad_width=((vertical_pad//2, vertical_pad - vertical_pad//2), \n",
    "                                       (horizontal_pad//2, horizontal_pad - horizontal_pad//2),\n",
    "                                       (0, 0)), \n",
    "                       mode='constant', constant_values=0)  # Empty is black in this data\n",
    "        \n",
    "        h, w, c = image.shape\n",
    "        image = image.reshape(h // self.size, self.size, w // self.size, self.size, c)\n",
    "        image = image.swapaxes(1, 2).reshape(-1, self.size, self.size, c)\n",
    "        mask = mask.reshape(h // self.size, self.size, w // self.size, self.size, c)\n",
    "        mask = mask.swapaxes(1, 2).reshape(-1, self.size, self.size, c)\n",
    "        \n",
    "        if image.shape[0] < self.number:\n",
    "            image = np.pad(image, pad_width=((0, self.number - image.shape[0]), (0, 0), (0, 0), (0 ,0)),\n",
    "                           mode='constant', constant_values=255)\n",
    "            mask = np.pad(mask, pad_width=((0, self.number - mask.shape[0]), (0, 0), (0, 0), (0 ,0)),\n",
    "                          mode='constant', constant_values=0)\n",
    "        \n",
    "        # Find the images with the most stuff (the most red):\n",
    "        sorted_tiles = np.argsort(np.sum(image[:, :, :, 0:1], axis=(1, 2, 3)))\n",
    "        sorted_tiles = sorted_tiles[:self.number]\n",
    "        \n",
    "        return image[sorted_tiles], mask[sorted_tiles]"
   ]
  },
  {
   "cell_type": "code",
   "execution_count": 3,
   "metadata": {},
   "outputs": [],
   "source": [
    "BASE_PATH = Path('G:/Datasets/panda/')\n",
    "OUTPUT_BASE = Path('D:/Datasets/panda/')\n",
    "\n",
    "TRAIN_PATH = BASE_PATH/'train_images/'\n",
    "MASKS_TRAIN_PATH = BASE_PATH/'train_label_masks/'\n",
    "OUTPUT_IMG_PATH = OUTPUT_BASE/'train_tiles_256_2/imgs/'\n",
    "OUTPUT_MASK_PATH = OUTPUT_BASE/'train_tiles_256_2/masks/'\n",
    "CSV_PATH = BASE_PATH/'train.csv'\n",
    "LEVEL = -2"
   ]
  },
  {
   "cell_type": "code",
   "execution_count": 4,
   "metadata": {},
   "outputs": [],
   "source": [
    "OUTPUT_IMG_PATH.mkdir(exist_ok=True, parents=True)\n",
    "OUTPUT_MASK_PATH.mkdir(exist_ok=True, parents=True)"
   ]
  },
  {
   "cell_type": "code",
   "execution_count": 5,
   "metadata": {},
   "outputs": [],
   "source": [
    "tile_maker = TileMaker(256, 12)"
   ]
  },
  {
   "cell_type": "code",
   "execution_count": 7,
   "metadata": {},
   "outputs": [
    {
     "name": "stdout",
     "output_type": "stream",
     "text": [
      "8/10616"
     ]
    },
    {
     "ename": "KeyboardInterrupt",
     "evalue": "",
     "output_type": "error",
     "traceback": [
      "\u001b[1;31m---------------------------------------------------------------------------\u001b[0m",
      "\u001b[1;31mKeyboardInterrupt\u001b[0m                         Traceback (most recent call last)",
      "\u001b[1;32m<ipython-input-7-ad62b5770ccc>\u001b[0m in \u001b[0;36m<module>\u001b[1;34m\u001b[0m\n\u001b[0;32m     27\u001b[0m         \u001b[0mmask\u001b[0m \u001b[1;33m=\u001b[0m \u001b[0mnp\u001b[0m\u001b[1;33m.\u001b[0m\u001b[0mzeros_like\u001b[0m\u001b[1;33m(\u001b[0m\u001b[0mimage\u001b[0m\u001b[1;33m)\u001b[0m\u001b[1;33m\u001b[0m\u001b[1;33m\u001b[0m\u001b[0m\n\u001b[0;32m     28\u001b[0m \u001b[1;33m\u001b[0m\u001b[0m\n\u001b[1;32m---> 29\u001b[1;33m     \u001b[0mimage\u001b[0m\u001b[1;33m,\u001b[0m \u001b[0mmask\u001b[0m \u001b[1;33m=\u001b[0m \u001b[0mtile_maker\u001b[0m\u001b[1;33m.\u001b[0m\u001b[0mmake\u001b[0m\u001b[1;33m(\u001b[0m\u001b[0mimage\u001b[0m\u001b[1;33m,\u001b[0m \u001b[0mmask\u001b[0m\u001b[1;33m)\u001b[0m\u001b[1;33m\u001b[0m\u001b[1;33m\u001b[0m\u001b[0m\n\u001b[0m\u001b[0;32m     30\u001b[0m     \u001b[0msys\u001b[0m\u001b[1;33m.\u001b[0m\u001b[0mstdout\u001b[0m\u001b[1;33m.\u001b[0m\u001b[0mwrite\u001b[0m\u001b[1;33m(\u001b[0m\u001b[1;34mf'\\r{i + 1}/{len(img_list)}'\u001b[0m\u001b[1;33m)\u001b[0m\u001b[1;33m\u001b[0m\u001b[1;33m\u001b[0m\u001b[0m\n\u001b[0;32m     31\u001b[0m \u001b[1;33m\u001b[0m\u001b[0m\n",
      "\u001b[1;32m<ipython-input-2-7733984b583f>\u001b[0m in \u001b[0;36mmake\u001b[1;34m(self, image, mask)\u001b[0m\n\u001b[0;32m     25\u001b[0m         \u001b[0mimage\u001b[0m \u001b[1;33m=\u001b[0m \u001b[0mimage\u001b[0m\u001b[1;33m.\u001b[0m\u001b[0mswapaxes\u001b[0m\u001b[1;33m(\u001b[0m\u001b[1;36m1\u001b[0m\u001b[1;33m,\u001b[0m \u001b[1;36m2\u001b[0m\u001b[1;33m)\u001b[0m\u001b[1;33m.\u001b[0m\u001b[0mreshape\u001b[0m\u001b[1;33m(\u001b[0m\u001b[1;33m-\u001b[0m\u001b[1;36m1\u001b[0m\u001b[1;33m,\u001b[0m \u001b[0mself\u001b[0m\u001b[1;33m.\u001b[0m\u001b[0msize\u001b[0m\u001b[1;33m,\u001b[0m \u001b[0mself\u001b[0m\u001b[1;33m.\u001b[0m\u001b[0msize\u001b[0m\u001b[1;33m,\u001b[0m \u001b[0mc\u001b[0m\u001b[1;33m)\u001b[0m\u001b[1;33m\u001b[0m\u001b[1;33m\u001b[0m\u001b[0m\n\u001b[0;32m     26\u001b[0m         \u001b[0mmask\u001b[0m \u001b[1;33m=\u001b[0m \u001b[0mmask\u001b[0m\u001b[1;33m.\u001b[0m\u001b[0mreshape\u001b[0m\u001b[1;33m(\u001b[0m\u001b[0mh\u001b[0m \u001b[1;33m//\u001b[0m \u001b[0mself\u001b[0m\u001b[1;33m.\u001b[0m\u001b[0msize\u001b[0m\u001b[1;33m,\u001b[0m \u001b[0mself\u001b[0m\u001b[1;33m.\u001b[0m\u001b[0msize\u001b[0m\u001b[1;33m,\u001b[0m \u001b[0mw\u001b[0m \u001b[1;33m//\u001b[0m \u001b[0mself\u001b[0m\u001b[1;33m.\u001b[0m\u001b[0msize\u001b[0m\u001b[1;33m,\u001b[0m \u001b[0mself\u001b[0m\u001b[1;33m.\u001b[0m\u001b[0msize\u001b[0m\u001b[1;33m,\u001b[0m \u001b[0mc\u001b[0m\u001b[1;33m)\u001b[0m\u001b[1;33m\u001b[0m\u001b[1;33m\u001b[0m\u001b[0m\n\u001b[1;32m---> 27\u001b[1;33m         \u001b[0mmask\u001b[0m \u001b[1;33m=\u001b[0m \u001b[0mmask\u001b[0m\u001b[1;33m.\u001b[0m\u001b[0mswapaxes\u001b[0m\u001b[1;33m(\u001b[0m\u001b[1;36m1\u001b[0m\u001b[1;33m,\u001b[0m \u001b[1;36m2\u001b[0m\u001b[1;33m)\u001b[0m\u001b[1;33m.\u001b[0m\u001b[0mreshape\u001b[0m\u001b[1;33m(\u001b[0m\u001b[1;33m-\u001b[0m\u001b[1;36m1\u001b[0m\u001b[1;33m,\u001b[0m \u001b[0mself\u001b[0m\u001b[1;33m.\u001b[0m\u001b[0msize\u001b[0m\u001b[1;33m,\u001b[0m \u001b[0mself\u001b[0m\u001b[1;33m.\u001b[0m\u001b[0msize\u001b[0m\u001b[1;33m,\u001b[0m \u001b[0mc\u001b[0m\u001b[1;33m)\u001b[0m\u001b[1;33m\u001b[0m\u001b[1;33m\u001b[0m\u001b[0m\n\u001b[0m\u001b[0;32m     28\u001b[0m \u001b[1;33m\u001b[0m\u001b[0m\n\u001b[0;32m     29\u001b[0m         \u001b[1;32mif\u001b[0m \u001b[0mimage\u001b[0m\u001b[1;33m.\u001b[0m\u001b[0mshape\u001b[0m\u001b[1;33m[\u001b[0m\u001b[1;36m0\u001b[0m\u001b[1;33m]\u001b[0m \u001b[1;33m<\u001b[0m \u001b[0mself\u001b[0m\u001b[1;33m.\u001b[0m\u001b[0mnumber\u001b[0m\u001b[1;33m:\u001b[0m\u001b[1;33m\u001b[0m\u001b[1;33m\u001b[0m\u001b[0m\n",
      "\u001b[1;31mKeyboardInterrupt\u001b[0m: "
     ]
    }
   ],
   "source": [
    "img_list = list(TRAIN_PATH.glob('**/*.tiff'))\n",
    "#img_list.pop(5765)\n",
    "bad_images = []\n",
    "bad_masks = []\n",
    "image_stats = []\n",
    "for i, img_fn in enumerate(img_list):\n",
    "    \n",
    "    img_id = img_fn.stem\n",
    "    mask_fn = MASKS_TRAIN_PATH/(img_id + '_mask.tiff')\n",
    "    \n",
    "    try:\n",
    "        col = skimage.io.MultiImage(str(img_fn))\n",
    "        image = col[LEVEL]\n",
    "    except:\n",
    "        bad_images.append(img_id)\n",
    "        continue\n",
    "    \n",
    "    if mask_fn.exists():\n",
    "        \n",
    "        try:\n",
    "            mask = skimage.io.MultiImage(str(mask_fn))[LEVEL]\n",
    "        except:\n",
    "            bad_masks.append(img_id)\n",
    "            mask = np.zeros_like(image)\n",
    "            \n",
    "    else:\n",
    "        mask = np.zeros_like(image)\n",
    "        \n",
    "    image, mask = tile_maker.make(image, mask)\n",
    "    sys.stdout.write(f'\\r{i + 1}/{len(img_list)}')\n",
    "\n",
    "    image_stats.append({'image_id': img_id, 'mean': image.mean(axis=(0, 1, 2))/255, \n",
    "                        'mean_square': ((image/255) ** 2).mean(axis=(0, 1, 2))})\n",
    "    \n",
    "    for i, (tile_image, tile_mask) in enumerate(zip(image, mask)):\n",
    "        skimage.io.imsave(OUTPUT_IMG_PATH/(img_id + '_' + str(i) + '.png'), tile_image, check_contrast=False)\n",
    "        skimage.io.imsave(OUTPUT_MASK_PATH/(img_id +'_' + str(i) + '.png'), tile_mask, check_contrast=False)"
   ]
  },
  {
   "cell_type": "code",
   "execution_count": 8,
   "metadata": {},
   "outputs": [],
   "source": [
    "col_img = skimage.io.MultiImage(str(img_fn))\n",
    "col_mask = skimage.io.MultiImage(str(mask_fn))"
   ]
  },
  {
   "cell_type": "code",
   "execution_count": 9,
   "metadata": {},
   "outputs": [
    {
     "data": {
      "text/plain": [
       "<matplotlib.image.AxesImage at 0x1c3579f7ac8>"
      ]
     },
     "execution_count": 9,
     "metadata": {},
     "output_type": "execute_result"
    },
    {
     "data": {
      "image/png": "[encoded data removed]",
      "text/plain": [
       "<Figure size 432x288 with 1 Axes>"
      ]
     },
     "metadata": {
      "needs_background": "light"
     },
     "output_type": "display_data"
    }
   ],
   "source": [
    "plt.imshow(col_img[1])"
   ]
  },
  {
   "cell_type": "code",
   "execution_count": 10,
   "metadata": {},
   "outputs": [],
   "source": [
    "import matplotlib"
   ]
  },
  {
   "cell_type": "code",
   "execution_count": 11,
   "metadata": {},
   "outputs": [
    {
     "data": {
      "image/png": "[encoded data removed]",
      "text/plain": [
       "<Figure size 432x288 with 1 Axes>"
      ]
     },
     "metadata": {
      "needs_background": "light"
     },
     "output_type": "display_data"
    }
   ],
   "source": [
    "cmap = matplotlib.colors.ListedColormap(['black', 'gray', 'green', 'yellow', 'orange', 'red'])\n",
    "plt.imshow(np.asarray(col_mask[2])[:,:,0], cmap=cmap, interpolation='nearest', vmin=0, vmax=5) \n",
    "plt.show()"
   ]
  },
  {
   "cell_type": "code",
   "execution_count": 12,
   "metadata": {},
   "outputs": [],
   "source": [
    "import cv2"
   ]
  },
  {
   "cell_type": "code",
   "execution_count": 13,
   "metadata": {},
   "outputs": [
    {
     "data": {
      "text/plain": [
       "dtype('uint8')"
      ]
     },
     "execution_count": 13,
     "metadata": {},
     "output_type": "execute_result"
    }
   ],
   "source": [
    "col_img[1].dtype"
   ]
  },
  {
   "cell_type": "code",
   "execution_count": 21,
   "metadata": {},
   "outputs": [],
   "source": [
    "tile = col_img[1][1000:1512, 750:1262]"
   ]
  },
  {
   "cell_type": "code",
   "execution_count": 22,
   "metadata": {},
   "outputs": [],
   "source": [
    "circles = cv2.HoughCircles(image=cv2.cvtColor(tile, cv2.COLOR_RGB2GRAY), method=cv2.HOUGH_GRADIENT, dp=1, minDist=20, param1=50,param2=30,minRadius=0,maxRadius=0)"
   ]
  },
  {
   "cell_type": "code",
   "execution_count": 24,
   "metadata": {},
   "outputs": [
    {
     "data": {
      "text/plain": [
       "259"
      ]
     },
     "execution_count": 24,
     "metadata": {},
     "output_type": "execute_result"
    }
   ],
   "source": [
    "len(circles[0])"
   ]
  },
  {
   "cell_type": "code",
   "execution_count": 25,
   "metadata": {},
   "outputs": [
    {
     "data": {
      "text/plain": [
       "<matplotlib.image.AxesImage at 0x1c362845d08>"
      ]
     },
     "execution_count": 25,
     "metadata": {},
     "output_type": "execute_result"
    },
    {
     "data": {
      "image/png": "[encoded data removed]",
      "text/plain": [
       "<Figure size 432x288 with 1 Axes>"
      ]
     },
     "metadata": {
      "needs_background": "light"
     },
     "output_type": "display_data"
    }
   ],
   "source": [
    "plt.imshow(tile)"
   ]
  },
  {
   "cell_type": "code",
   "execution_count": 17,
   "metadata": {},
   "outputs": [],
   "source": [
    "circles = np.uint16(np.around(circles))\n",
    "for i in circles[0,:]:\n",
    "    # draw the outer circle\n",
    "    cv2.circle(tile,(i[0],i[1]),i[2],(0,255,0),2)\n",
    "    # draw the center of the circle\n",
    "    cv2.circle(tile,(i[0],i[1]),2,(0,0,255),3)\n",
    "\n",
    "cv2.imshow('detected circles',tile[1])\n",
    "cv2.waitKey(0)\n",
    "cv2.destroyAllWindows()"
   ]
  },
  {
   "cell_type": "code",
   "execution_count": 11,
   "metadata": {},
   "outputs": [],
   "source": [
    "image_stats = pd.DataFrame(image_stats)"
   ]
  },
  {
   "cell_type": "code",
   "execution_count": 12,
   "metadata": {},
   "outputs": [],
   "source": [
    "df = pd.read_csv(CSV_PATH)\n",
    "df = pd.merge(df, image_stats, on='image_id', how='left')"
   ]
  },
  {
   "cell_type": "code",
   "execution_count": 13,
   "metadata": {},
   "outputs": [],
   "source": [
    "provider_stats = {}\n",
    "for provider in df['data_provider'].unique():\n",
    "    mean = (df[df['data_provider']==provider]['mean']).mean()\n",
    "    std = np.sqrt((df[df['data_provider']==provider]['mean_square']).mean() - mean ** 2)\n",
    "    provider_stats[provider] = (mean, std)\n",
    "provider_stats['all'] = (mean, std)"
   ]
  },
  {
   "cell_type": "code",
   "execution_count": 14,
   "metadata": {},
   "outputs": [],
   "source": [
    "with open(OUTPUT_BASE/'stats.pkl', 'wb') as file:\n",
    "    pickle.dump(provider_stats, file)"
   ]
  },
  {
   "cell_type": "code",
   "execution_count": 15,
   "metadata": {},
   "outputs": [
    {
     "name": "stdout",
     "output_type": "stream",
     "text": [
      "[]\n"
     ]
    }
   ],
   "source": [
    "print(bad_images)"
   ]
  },
  {
   "cell_type": "code",
   "execution_count": 16,
   "metadata": {},
   "outputs": [
    {
     "name": "stdout",
     "output_type": "stream",
     "text": [
      "['8d6d8329cd0bbf6d0356b300f83d6b6a', '8d9bf04e714c959d4c571030c51ee9f5', '8fa7f6ad508c78ef7dbd621d579350b8', '93e2ce38e743146a128afb9ff3a61383', '93f366029ac746d84ea2aea80cc998e8', '9403cc77efc7d9414204d12e31dadac1', '95deb0caf878d715c1a497a77abbd6d9', '95df6544155901a142acce3866e316c2', '96aac9c3672cadf72e9e60d634bb145a', '96c62d8799651597247be49bf790d585', '97a83309575b765469e6a09250d92170', '97bed3de5c372f3dc9ba818cd5e97369', '99bc60c2d554be9304993efa0a5ef740']\n"
     ]
    }
   ],
   "source": [
    "print(bad_masks)"
   ]
  },
  {
   "cell_type": "code",
   "execution_count": 17,
   "metadata": {},
   "outputs": [
    {
     "name": "stdout",
     "output_type": "stream",
     "text": [
      "{'karolinska': (array([0.87654091, 0.75072203, 0.84950648]), array([0.15320463, 0.29574767, 0.17975922])), 'radboud': (array([0.91472376, 0.83046245, 0.86723473]), array([0.11670425, 0.20455511, 0.15790534]))}\n"
     ]
    }
   ],
   "source": [
    "print(provider_stats)"
   ]
  },
  {
   "cell_type": "code",
   "execution_count": null,
   "metadata": {},
   "outputs": [],
   "source": []
  }
 ],
 "metadata": {
  "kernelspec": {
   "display_name": "Python 3",
   "language": "python",
   "name": "python3"
  },
  "language_info": {
   "codemirror_mode": {
    "name": "ipython",
    "version": 3
   },
   "file_extension": ".py",
   "mimetype": "text/x-python",
   "name": "python",
   "nbconvert_exporter": "python",
   "pygments_lexer": "ipython3",
   "version": "3.7.6"
  }
 },
 "nbformat": 4,
 "nbformat_minor": 4
}
